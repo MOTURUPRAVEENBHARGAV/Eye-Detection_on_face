{
 "cells": [
  {
   "cell_type": "code",
   "execution_count": 2,
   "metadata": {},
   "outputs": [
    {
     "name": "stdout",
     "output_type": "stream",
     "text": [
      "Wall time: 196 ms\n"
     ]
    }
   ],
   "source": [
    "%%time\n",
    "import cv2 \n",
    "import numpy as np\n",
    "\n"
   ]
  },
  {
   "cell_type": "markdown",
   "metadata": {},
   "source": [
    "### By Passing Image"
   ]
  },
  {
   "cell_type": "code",
   "execution_count": 7,
   "metadata": {},
   "outputs": [],
   "source": [
    "#cascade file for eye stored in local directory\n",
    "# %%time\n",
    "cascade=cv2.CascadeClassifier('haarcascade_eye.xml')\n",
    "\n",
    "img=cv2.imread(\"DSCN0489.jpg\") #reading the image\n",
    "img=cv2.resize(img,(500,500)) #resizing the image to 500x500\n",
    "copy=img.copy() #copying the image\n",
    "gray=cv2.cvtColor(copy,cv2.COLOR_BGR2GRAY) #CONVERTING  the image to grayscale\n",
    "eyes=cascade.detectMultiScale(gray,1.3,5) #for detecting the eyes in the image\n",
    "for (ex,ey,ew,eh) in eyes: #dimensions for rectangle\n",
    "    cv2.rectangle(copy,(ex,ey),(ex+ew,ey+eh),(0,0,255),1)\n",
    "    #imge, dim from, dim to, color of rect, width of rect\n",
    "    \n",
    "stack=np.hstack([img,copy])\n",
    "cv2.imwrite(\"stack.jpg\",stack)\n",
    "cv2.imshow('output',stack)\n",
    "\n",
    "cv2.waitKey(0)\n",
    "cv2.destroyAllWindows()\n"
   ]
  },
  {
   "cell_type": "markdown",
   "metadata": {},
   "source": [
    "### By passing live video"
   ]
  },
  {
   "cell_type": "code",
   "execution_count": 1,
   "metadata": {},
   "outputs": [],
   "source": [
    "import cv2\n",
    "import time\n",
    "import numpy as np"
   ]
  },
  {
   "cell_type": "code",
   "execution_count": 38,
   "metadata": {},
   "outputs": [],
   "source": [
    "#Preparation for writing the output video\n",
    "\n",
    "fourcc=cv2.VideoWriter_fourcc(*'XVID')\n",
    "out=cv2.VideoWriter('final4.avi',fourcc,30.0,(500,500))\n",
    "\n",
    "#reading from the webcam\n",
    "\n",
    "camera=cv2.VideoCapture(0)\n",
    "\n",
    "# REad every frame from the webcam , until the camera is closed\n",
    "size=2\n",
    "while(camera.isOpened()):\n",
    "    (ret,img)=camera.read()\n",
    "    if not ret:\n",
    "        break\n",
    "    img=cv2.flip(img,1,1) #flip to act as a mirror\n",
    "    cascade=cv2.CascadeClassifier('haarcascade_eye.xml')\n",
    "    img=cv2.resize(img,(500,500),interpolation = cv2.INTER_AREA) #resizing the image to 500x500\n",
    "    copy=img.copy() #copying the image\n",
    "    gray=cv2.cvtColor(copy,cv2.COLOR_BGR2GRAY) #CONVERTING  the image to grayscale\n",
    "    eyes=cascade.detectMultiScale(gray,1.3,5) #for detecting the eyes in the image\n",
    "    for (ex,ey,ew,eh) in eyes: #dimensions for rectangle\n",
    "        cv2.rectangle(copy,(ex,ey),(ex+ew,ey+eh),(0,0,255),1)\n",
    "    #imge, dim from, dim to, color of rect, width of rect\n",
    "#     for i in eyes:\n",
    "#         (ex,ey,ew,eh) = [v * size for v in i] #Scale the shapesize backup\n",
    "#         #Save just the rectangle faces in SubRecFaces\n",
    "       \n",
    "    #for (ex,ey,ew,eh) in eyes: #dimensions for rectangle\n",
    "#     cv2.rectangle(copy,(ex,ey),(ex+ew,ey+eh),(0,255,0),1)\n",
    "    \n",
    "#     stack=np.hstack([img,copy])\n",
    "    # cv2.imwrite(\"stack.jpg\",stack)\n",
    "    out.write(copy)\n",
    "    cv2.imshow('output',copy)\n",
    "    \n",
    "    k=cv2.waitKey(100)\n",
    "    #if ESC key is pressed then break out of the loop\n",
    "    if k==27:\n",
    "        break\n",
    " \n",
    "#closing the camera\n",
    "camera.release()\n",
    "out.release()\n",
    "cv2.destroyAllWindows()\n",
    "    \n",
    "    \n",
    "    \n",
    "    \n",
    "    \n",
    "    \n",
    "        "
   ]
  },
  {
   "cell_type": "code",
   "execution_count": null,
   "metadata": {},
   "outputs": [],
   "source": []
  },
  {
   "cell_type": "code",
   "execution_count": 19,
   "metadata": {},
   "outputs": [],
   "source": [
    "cap = cv2.VideoCapture(0)\n",
    "while(cap.isOpened()):\n",
    "    ret, img = cap.read()\n",
    "    if not ret:\n",
    "        break\n",
    "\n",
    "    img = np.flip(img,axis=1)\n",
    "    cascade=cv2.CascadeClassifier('haarcascade_eye.xml')\n",
    "    img=cv2.resize(img,(500,500),interpolation = cv2.INTER_AREA) #resizing the image to 500x500\n",
    "    copy=img.copy() #copying the image\n",
    "    gray=cv2.cvtColor(copy,cv2.COLOR_BGR2GRAY) #CONVERTING  the image to grayscale\n",
    "    eyes=cascade.detectMultiScale(gray,1.3,5)\n",
    "    for (ex,ey,ew,eh) in eyes: #dimensions for rectangle\n",
    "        cv2.rectangle(copy,(ex,ey),(ex+ew,ey+eh),(0,0,255),1)\n",
    "    \n",
    "    \n",
    "    \n",
    "    cv2.imshow(\"output\",img)\n",
    "    k=cv2.waitKey(1)\n",
    "    if k==ord('q'):\n",
    "        break\n",
    "\n",
    "cap.release()\n",
    "\n",
    "cv2.destroyAllWindows()"
   ]
  },
  {
   "cell_type": "code",
   "execution_count": null,
   "metadata": {},
   "outputs": [],
   "source": []
  }
 ],
 "metadata": {
  "kernelspec": {
   "display_name": "Python 3",
   "language": "python",
   "name": "python3"
  },
  "language_info": {
   "codemirror_mode": {
    "name": "ipython",
    "version": 3
   },
   "file_extension": ".py",
   "mimetype": "text/x-python",
   "name": "python",
   "nbconvert_exporter": "python",
   "pygments_lexer": "ipython3",
   "version": "3.8.3"
  }
 },
 "nbformat": 4,
 "nbformat_minor": 4
}
